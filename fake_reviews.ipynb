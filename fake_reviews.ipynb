{
 "cells": [
  {
   "cell_type": "markdown",
   "metadata": {},
   "source": [
    "## **FAKE REVIEWS DETECTION**\n",
    "### **INTRODUCTION**\n",
    "\n",
    "Online reviews significantly influence consumer decision-making. However, the authenticity of these reviews is often questionable, with fake reviews being used to manipulate public opinion and sales. The dataset utilized in this project, sourced from [Hugging Face's Amazon Reviews 2023 dataset](https://huggingface.co/datasets/McAuley-Lab/Amazon-Reviews-2023), specifically from the **All_Beauty** category. This dataset includes detailed information such as ratings, review titles, review text, helpful votes, and whether the purchase was verified. By analyzing these features, this project aims to build a natural language processing (NLP) model that effectively identifies fake reviews and enhances trust in online platforms.\n",
    "\n",
    "### **STAKEHOLDER IDENTIFICATION**\n",
    "\n",
    "1. **E-commerce Platforms**: \n",
    "   - Detect and filter fake reviews to maintain customer trust and ensure accurate product feedback.\n",
    "   - Use insights to improve platform reliability and foster consumer loyalty.\n",
    "\n",
    "2. **Consumers**: \n",
    "   - Benefit from trustworthy reviews that reflect genuine user experiences.\n",
    "   - Make informed purchasing decisions based on authentic feedback.\n",
    "\n",
    "3. **Businesses**: \n",
    "   - Protect brand reputation from potential harm caused by misleading reviews.\n",
    "   - Gain valuable insights into customer preferences and concerns through accurate reviews.\n",
    "\n",
    "4. **Regulatory Bodies**: \n",
    "   - Monitor and manage the authenticity of online reviews to ensure ethical business practices.\n",
    "   - Enforce compliance with guidelines against fraudulent activities.\n",
    "\n",
    "### **PROJECT GOALS AND OBJECTIVES**\n",
    "\n",
    "#### **OBJECTIVE**\n",
    "The primary aim of this project is to develop an NLP-based model that identifies fake reviews with high accuracy. This involves analyzing textual patterns, behavioral features, and metadata to differentiate between genuine and fraudulent reviews.\n",
    "\n",
    "#### **GOALS**\n",
    "\n",
    "1. **Enhance Review Authenticity Detection**:\n",
    "   - Build and train models to reliably classify reviews as real or fake.\n",
    "   - Use metrics such as accuracy, precision, and recall to evaluate model performance.\n",
    "\n",
    "2. **Advance NLP Techniques**:\n",
    "   - Employ advanced preprocessing methods, including text tokenization, stopword removal, and lemmatization, to prepare textual data for analysis.\n",
    "   - Use machine learning and natural language processing techniques such as TF-IDF and Logistic Regression to classify reviews.\n",
    "\n",
    "3. **Facilitate Data Management**:\n",
    "   - Leverage pandas and dataframes for organizing and preprocessing the dataset efficiently.\n",
    "   - Explore patterns in metadata, such as helpful votes, verified purchase status, and timestamps, to identify distinguishing features of fake reviews.\n",
    "\n",
    "4. **Promote Consumer Trust**:\n",
    "   - Provide tools that platforms and consumers can use to assess the credibility of reviews.\n",
    "   - Contribute to the overall integrity and reliability of e-commerce ecosystems.\n",
    "\n",
    "### Import libraries"
   ]
  },
  {
   "cell_type": "code",
   "execution_count": 11,
   "metadata": {},
   "outputs": [
    {
     "name": "stderr",
     "output_type": "stream",
     "text": [
      "[nltk_data] Downloading package stopwords to\n",
      "[nltk_data]     C:\\Users\\HP\\AppData\\Roaming\\nltk_data...\n",
      "[nltk_data]   Package stopwords is already up-to-date!\n",
      "[nltk_data] Downloading package punkt to\n",
      "[nltk_data]     C:\\Users\\HP\\AppData\\Roaming\\nltk_data...\n",
      "[nltk_data]   Package punkt is already up-to-date!\n",
      "[nltk_data] Downloading package wordnet to\n",
      "[nltk_data]     C:\\Users\\HP\\AppData\\Roaming\\nltk_data...\n",
      "[nltk_data]   Package wordnet is already up-to-date!\n"
     ]
    },
    {
     "data": {
      "text/plain": [
       "True"
      ]
     },
     "execution_count": 11,
     "metadata": {},
     "output_type": "execute_result"
    }
   ],
   "source": [
    "# Import necessary libraries\n",
    "import pandas as pd\n",
    "import numpy as np\n",
    "import re\n",
    "from sklearn.model_selection import train_test_split\n",
    "from sklearn.feature_extraction.text import TfidfVectorizer\n",
    "from sklearn.linear_model import LogisticRegression\n",
    "from sklearn.metrics import confusion_matrix, classification_report, accuracy_score\n",
    "import pickle\n",
    "import matplotlib.pyplot as plt\n",
    "import seaborn as sns\n",
    "import nltk\n",
    "from nltk.corpus import stopwords\n",
    "from nltk.tokenize import word_tokenize\n",
    "from nltk.stem import WordNetLemmatizer\n",
    "from datasets import load_dataset\n",
    "nltk.download('stopwords')\n",
    "nltk.download('punkt')\n",
    "nltk.download('wordnet')\n"
   ]
  },
  {
   "cell_type": "code",
   "execution_count": 12,
   "metadata": {},
   "outputs": [],
   "source": [
    "# Load dataset\n",
    "dataset = load_dataset(\"McAuley-Lab/Amazon-Reviews-2023\", \"raw_review_All_Beauty\", trust_remote_code=True)"
   ]
  },
  {
   "cell_type": "code",
   "execution_count": null,
   "metadata": {},
   "outputs": [
    {
     "data": {
      "text/html": [
       "<div>\n",
       "<style scoped>\n",
       "    .dataframe tbody tr th:only-of-type {\n",
       "        vertical-align: middle;\n",
       "    }\n",
       "\n",
       "    .dataframe tbody tr th {\n",
       "        vertical-align: top;\n",
       "    }\n",
       "\n",
       "    .dataframe thead th {\n",
       "        text-align: right;\n",
       "    }\n",
       "</style>\n",
       "<table border=\"1\" class=\"dataframe\">\n",
       "  <thead>\n",
       "    <tr style=\"text-align: right;\">\n",
       "      <th></th>\n",
       "      <th>rating</th>\n",
       "      <th>title</th>\n",
       "      <th>text</th>\n",
       "      <th>images</th>\n",
       "      <th>asin</th>\n",
       "      <th>parent_asin</th>\n",
       "      <th>user_id</th>\n",
       "      <th>timestamp</th>\n",
       "      <th>helpful_vote</th>\n",
       "      <th>verified_purchase</th>\n",
       "    </tr>\n",
       "  </thead>\n",
       "  <tbody>\n",
       "    <tr>\n",
       "      <th>0</th>\n",
       "      <td>5.0</td>\n",
       "      <td>Such a lovely scent but not overpowering.</td>\n",
       "      <td>This spray is really nice. It smells really go...</td>\n",
       "      <td>[]</td>\n",
       "      <td>B00YQ6X8EO</td>\n",
       "      <td>B00YQ6X8EO</td>\n",
       "      <td>AGKHLEW2SOWHNMFQIJGBECAF7INQ</td>\n",
       "      <td>1588687728923</td>\n",
       "      <td>0</td>\n",
       "      <td>True</td>\n",
       "    </tr>\n",
       "    <tr>\n",
       "      <th>1</th>\n",
       "      <td>4.0</td>\n",
       "      <td>Works great but smells a little weird.</td>\n",
       "      <td>This product does what I need it to do, I just...</td>\n",
       "      <td>[]</td>\n",
       "      <td>B081TJ8YS3</td>\n",
       "      <td>B081TJ8YS3</td>\n",
       "      <td>AGKHLEW2SOWHNMFQIJGBECAF7INQ</td>\n",
       "      <td>1588615855070</td>\n",
       "      <td>1</td>\n",
       "      <td>True</td>\n",
       "    </tr>\n",
       "    <tr>\n",
       "      <th>2</th>\n",
       "      <td>5.0</td>\n",
       "      <td>Yes!</td>\n",
       "      <td>Smells good, feels great!</td>\n",
       "      <td>[]</td>\n",
       "      <td>B07PNNCSP9</td>\n",
       "      <td>B097R46CSY</td>\n",
       "      <td>AE74DYR3QUGVPZJ3P7RFWBGIX7XQ</td>\n",
       "      <td>1589665266052</td>\n",
       "      <td>2</td>\n",
       "      <td>True</td>\n",
       "    </tr>\n",
       "    <tr>\n",
       "      <th>3</th>\n",
       "      <td>1.0</td>\n",
       "      <td>Synthetic feeling</td>\n",
       "      <td>Felt synthetic</td>\n",
       "      <td>[]</td>\n",
       "      <td>B09JS339BZ</td>\n",
       "      <td>B09JS339BZ</td>\n",
       "      <td>AFQLNQNQYFWQZPJQZS6V3NZU4QBQ</td>\n",
       "      <td>1643393630220</td>\n",
       "      <td>0</td>\n",
       "      <td>True</td>\n",
       "    </tr>\n",
       "    <tr>\n",
       "      <th>4</th>\n",
       "      <td>5.0</td>\n",
       "      <td>A+</td>\n",
       "      <td>Love it</td>\n",
       "      <td>[]</td>\n",
       "      <td>B08BZ63GMJ</td>\n",
       "      <td>B08BZ63GMJ</td>\n",
       "      <td>AFQLNQNQYFWQZPJQZS6V3NZU4QBQ</td>\n",
       "      <td>1609322563534</td>\n",
       "      <td>0</td>\n",
       "      <td>True</td>\n",
       "    </tr>\n",
       "  </tbody>\n",
       "</table>\n",
       "</div>"
      ],
      "text/plain": [
       "   rating                                      title  \\\n",
       "0     5.0  Such a lovely scent but not overpowering.   \n",
       "1     4.0     Works great but smells a little weird.   \n",
       "2     5.0                                       Yes!   \n",
       "3     1.0                          Synthetic feeling   \n",
       "4     5.0                                         A+   \n",
       "\n",
       "                                                text images        asin  \\\n",
       "0  This spray is really nice. It smells really go...     []  B00YQ6X8EO   \n",
       "1  This product does what I need it to do, I just...     []  B081TJ8YS3   \n",
       "2                          Smells good, feels great!     []  B07PNNCSP9   \n",
       "3                                     Felt synthetic     []  B09JS339BZ   \n",
       "4                                            Love it     []  B08BZ63GMJ   \n",
       "\n",
       "  parent_asin                       user_id      timestamp  helpful_vote  \\\n",
       "0  B00YQ6X8EO  AGKHLEW2SOWHNMFQIJGBECAF7INQ  1588687728923             0   \n",
       "1  B081TJ8YS3  AGKHLEW2SOWHNMFQIJGBECAF7INQ  1588615855070             1   \n",
       "2  B097R46CSY  AE74DYR3QUGVPZJ3P7RFWBGIX7XQ  1589665266052             2   \n",
       "3  B09JS339BZ  AFQLNQNQYFWQZPJQZS6V3NZU4QBQ  1643393630220             0   \n",
       "4  B08BZ63GMJ  AFQLNQNQYFWQZPJQZS6V3NZU4QBQ  1609322563534             0   \n",
       "\n",
       "   verified_purchase  \n",
       "0               True  \n",
       "1               True  \n",
       "2               True  \n",
       "3               True  \n",
       "4               True  "
      ]
     },
     "execution_count": 13,
     "metadata": {},
     "output_type": "execute_result"
    }
   ],
   "source": [
    "# Convert dataset to DataFrame\n",
    "df = pd.DataFrame(dataset[\"full\"])\n",
    "\n",
    "df.head()"
   ]
  },
  {
   "cell_type": "code",
   "execution_count": 14,
   "metadata": {},
   "outputs": [
    {
     "name": "stdout",
     "output_type": "stream",
     "text": [
      "<class 'pandas.core.frame.DataFrame'>\n",
      "RangeIndex: 701528 entries, 0 to 701527\n",
      "Data columns (total 10 columns):\n",
      " #   Column             Non-Null Count   Dtype  \n",
      "---  ------             --------------   -----  \n",
      " 0   rating             701528 non-null  float64\n",
      " 1   title              701528 non-null  object \n",
      " 2   text               701528 non-null  object \n",
      " 3   images             701528 non-null  object \n",
      " 4   asin               701528 non-null  object \n",
      " 5   parent_asin        701528 non-null  object \n",
      " 6   user_id            701528 non-null  object \n",
      " 7   timestamp          701528 non-null  int64  \n",
      " 8   helpful_vote       701528 non-null  int64  \n",
      " 9   verified_purchase  701528 non-null  bool   \n",
      "dtypes: bool(1), float64(1), int64(2), object(6)\n",
      "memory usage: 48.8+ MB\n"
     ]
    }
   ],
   "source": [
    "df.info()"
   ]
  },
  {
   "cell_type": "code",
   "execution_count": null,
   "metadata": {},
   "outputs": [
    {
     "name": "stdout",
     "output_type": "stream",
     "text": [
      "Class distribution for 'rating' column:\n",
      "rating\n",
      "5.0    420726\n",
      "1.0    102080\n",
      "4.0     79381\n",
      "3.0     56307\n",
      "2.0     43034\n",
      "Name: count, dtype: int64\n"
     ]
    }
   ],
   "source": [
    "# Distribution of the 'rating' column\n",
    "rating_counts = df['rating'].value_counts()\n",
    "\n",
    "# Class distribution\n",
    "print(\"Class distribution for 'rating' column:\")\n",
    "print(rating_counts)"
   ]
  },
  {
   "cell_type": "code",
   "execution_count": 17,
   "metadata": {},
   "outputs": [
    {
     "data": {
      "image/png": "[encoded data removed]",
      "text/plain": [
       "<Figure size 1000x600 with 1 Axes>"
      ]
     },
     "metadata": {},
     "output_type": "display_data"
    }
   ],
   "source": [
    "# Class distribution plot\n",
    "plt.figure(figsize=(10,6))\n",
    "plt.title('Distribution of Ratings')\n",
    "sns.barplot(x=rating_counts.index, y=rating_counts.values, hue=rating_counts.index, palette='magma')\n",
    "plt.show()"
   ]
  },
  {
   "cell_type": "code",
   "execution_count": null,
   "metadata": {},
   "outputs": [],
   "source": []
  }
 ],
 "metadata": {
  "kernelspec": {
   "display_name": "Python 3",
   "language": "python",
   "name": "python3"
  },
  "language_info": {
   "codemirror_mode": {
    "name": "ipython",
    "version": 3
   },
   "file_extension": ".py",
   "mimetype": "text/x-python",
   "name": "python",
   "nbconvert_exporter": "python",
   "pygments_lexer": "ipython3",
   "version": "3.11.9"
  }
 },
 "nbformat": 4,
 "nbformat_minor": 2
}
